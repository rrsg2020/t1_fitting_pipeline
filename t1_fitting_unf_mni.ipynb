{
 "cells": [
  {
   "cell_type": "markdown",
   "metadata": {
    "kernel": "SoS"
   },
   "source": [
    "# Demo T1 processing notebook"
   ]
  },
  {
   "cell_type": "markdown",
   "metadata": {
    "kernel": "MATLAB"
   },
   "source": [
    "## Startup qMRLab"
   ]
  },
  {
   "cell_type": "code",
   "execution_count": 1,
   "metadata": {
    "kernel": "MATLAB"
   },
   "outputs": [],
   "source": [
    "try\n",
    "    cd qMRLab\n",
    "    startup\n",
    "    cd ..\n",
    "catch\n",
    "    error(\"qMRLab could not be started correctly.\")\n",
    "end"
   ]
  },
  {
   "cell_type": "markdown",
   "metadata": {
    "kernel": "MATLAB"
   },
   "source": [
    "## Get configuration options\n",
    "\n"
   ]
  },
  {
   "cell_type": "code",
   "execution_count": 2,
   "metadata": {
    "kernel": "MATLAB"
   },
   "outputs": [],
   "source": [
    "datasetDetails=loadjson('example.json');\n",
    "submission = fieldnames(datasetDetails);\n",
    "\n",
    "dataTypeList = {};\n",
    "imagePathList = {};\n",
    "counter = 1;\n",
    "\n",
    "for ii = 1:length(submission)\n",
    "    datasetList = fieldnames(datasetDetails.(submission{ii}).datasets);\n",
    "\n",
    "    for jj = 1:length(datasetList)\n",
    "        OSF_linkList{counter} = datasetDetails.(submission{ii}).OSF_link;\n",
    "\n",
    "        siteDetails=datasetDetails.(submission{ii}).datasets.(datasetList{jj});\n",
    "        dataTypeList{counter} = siteDetails.dataType;\n",
    "        imagePathList{counter} = siteDetails.imagePath;\n",
    "        counter = counter + 1;\n",
    "    end\n",
    "end"
   ]
  },
  {
   "cell_type": "markdown",
   "metadata": {
    "kernel": "MATLAB"
   },
   "source": [
    "## Download data"
   ]
  },
  {
   "cell_type": "code",
   "execution_count": 3,
   "metadata": {
    "kernel": "MATLAB"
   },
   "outputs": [
    {
     "name": "stdout",
     "output_type": "stream",
     "text": [
      "\n",
      "downloadedList =\n",
      "\n",
      "  1x1 cell array\n",
      "\n",
      "    {0x0 char}\n",
      "\n",
      "Downloading dataset: https://osf.io/c8s3z/download/\n",
      "Dataset downloaded succesfully!\n"
     ]
    }
   ],
   "source": [
    "downloadedList = {''}\n",
    "counter = 1;\n",
    "\n",
    "for ii = 1:length(imagePathList)\n",
    "\n",
    "    OSF_link= OSF_linkList{ii};\n",
    "\n",
    "    if ~strcmp(OSF_link, downloadedList)\n",
    "        % Download data\n",
    "        download_data(OSF_link);\n",
    "        \n",
    "        downloadedList{counter} = OSF_link;\n",
    "        counter = counter + 1;\n",
    "    end\n",
    "    \n",
    "end"
   ]
  },
  {
   "cell_type": "markdown",
   "metadata": {
    "kernel": "MATLAB"
   },
   "source": [
    "## Convert YAML config files to YAML"
   ]
  },
  {
   "cell_type": "code",
   "execution_count": 4,
   "metadata": {
    "kernel": "Python3"
   },
   "outputs": [
    {
     "name": "stdout",
     "output_type": "stream",
     "text": [
      "Converting YAML file 20200227_karakuzu_polymtl_NIST/20191213_UNF/20191213_karakuzu_UNF_NIST_FS.nii.gz to JSON.\n",
      "Data type is: Magnitude\n",
      "Conversion complete!\n",
      "Converting YAML file 20200227_karakuzu_polymtl_NIST/20200227_MNI/20200227_karakuzu_MNI_NIST_FS.nii.gz to JSON.\n",
      "Data type is: Magnitude\n",
      "Conversion complete!\n"
     ]
    }
   ],
   "source": [
    "%get dataTypeList --from MATLAB\n",
    "%get imagePathList --from MATLAB\n",
    "\n",
    "from convert_yaml_to_json import *\n",
    "\n",
    "for dataType, imagePath in zip(dataTypeList, imagePathList):\n",
    "   convert_yaml_to_json(dataType, imagePath)\n"
   ]
  },
  {
   "cell_type": "markdown",
   "metadata": {
    "kernel": "Octave"
   },
   "source": [
    "## Process entire dataset"
   ]
  },
  {
   "cell_type": "code",
   "execution_count": 8,
   "metadata": {
    "kernel": "MATLAB"
   },
   "outputs": [
    {
     "name": "stdout",
     "output_type": "stream",
     "text": [
      "Loading data of type: Magnitude\n",
      "Data loaded succesfully!\n",
      "Loading inversion times...\n",
      "Inversion times for data/20200227_karakuzu_polymtl_NIST/20191213_UNF/20191213_karakuzu_UNF_NIST_FS.json loaded succefully!\n",
      "Starting to fit data...\n",
      "=============== qMRLab::Fit ======================\n",
      "Operation has been started: inversion_recovery\n",
      "Elapsed time is 60.469648 seconds.\n",
      "Operation has been completed: inversion_recovery\n",
      "==================================================\n",
      "Data fit succesfully!\n",
      "Saving T1 map to NIFTI...\n",
      "Save complete!\n",
      "Loading data of type: Magnitude\n",
      "Data loaded succesfully!\n",
      "Loading inversion times...\n",
      "Inversion times for data/20200227_karakuzu_polymtl_NIST/20200227_MNI/20200227_karakuzu_MNI_NIST_FS.json loaded succefully!\n",
      "Starting to fit data...\n",
      "=============== qMRLab::Fit ======================\n",
      "Operation has been started: inversion_recovery\n",
      "Elapsed time is 84.081344 seconds.\n",
      "Operation has been completed: inversion_recovery\n",
      "==================================================\n",
      "Data fit succesfully!\n",
      "Saving T1 map to NIFTI...\n",
      "Save complete!\n"
     ]
    }
   ],
   "source": [
    "for ii = 1:length(imagePathList)\n",
    "\n",
    "    dataType = dataTypeList{ii};\n",
    "    imagePath = imagePathList{ii};\n",
    "\n",
    "\n",
    "    % Load data\n",
    "    [data, hdr] = load_data(dataType, imagePath);\n",
    "\n",
    "    % Get inversion times\n",
    "    TI = load_inversion_times(imagePath);\n",
    "\n",
    "    % Fit data\n",
    "    FitResults = fit_inversion_recovery(data, TI, dataType);\n",
    "\n",
    "    % Save data to nifti\n",
    "\n",
    "    [filepath,name,ext] = fileparts(imagePath);\n",
    "    if strcmp(name(end-3:end),'.nii')\n",
    "       [tmp1,name,tmp2] = fileparts(name);\n",
    "    end\n",
    "    clear tmp1, tmp2;\n",
    "\n",
    "    t1MapPath = ['t1_map' filesep filepath];\n",
    "    t1Filename = [name '_t1map.nii.gz'];\n",
    "\n",
    "    save_to_nifti(FitResults, hdr, t1MapPath, t1Filename)\n",
    "    \n",
    "end"
   ]
  },
  {
   "cell_type": "code",
   "execution_count": null,
   "metadata": {
    "kernel": "MATLAB"
   },
   "outputs": [],
   "source": []
  }
 ],
 "metadata": {
  "kernelspec": {
   "display_name": "SoS",
   "language": "sos",
   "name": "sos"
  },
  "language_info": {
   "codemirror_mode": "sos",
   "file_extension": ".sos",
   "mimetype": "text/x-sos",
   "name": "sos",
   "nbconvert_exporter": "sos_notebook.converter.SoS_Exporter",
   "pygments_lexer": "sos"
  },
  "sos": {
   "kernels": [
    [
     "MATLAB",
     "imatlab",
     "MATLAB",
     "#8ee7f1"
    ],
    [
     "Python3",
     "python3",
     "Python3",
     "#FFD91A"
    ],
    [
     "SoS",
     "sos",
     "",
     ""
    ]
   ],
   "panel": {
    "displayed": true,
    "height": 0,
    "style": "side"
   },
   "version": "0.17.2"
  }
 },
 "nbformat": 4,
 "nbformat_minor": 2
}
