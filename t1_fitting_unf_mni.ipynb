{
 "cells": [
  {
   "cell_type": "markdown",
   "metadata": {
    "kernel": "SoS"
   },
   "source": [
    "# Demo T1 processing notebook"
   ]
  },
  {
   "cell_type": "markdown",
   "metadata": {
    "kernel": "MATLAB"
   },
   "source": [
    "## Startup qMRLab"
   ]
  },
  {
   "cell_type": "code",
   "execution_count": null,
   "metadata": {
    "kernel": "MATLAB"
   },
   "outputs": [],
   "source": [
    "try\n",
    "    cd qMRLab\n",
    "    startup\n",
    "    cd ..\n",
    "catch\n",
    "    error(\"qMRLab could not be started correctly.\")\n",
    "end"
   ]
  },
  {
   "cell_type": "markdown",
   "metadata": {
    "kernel": "MATLAB"
   },
   "source": [
    "## Get configuration options\n",
    "\n"
   ]
  },
  {
   "cell_type": "code",
   "execution_count": null,
   "metadata": {
    "kernel": "MATLAB"
   },
   "outputs": [],
   "source": [
    "datasetDetails=loadjson('example.json');\n",
    "submission = fieldnames(datasetDetails);\n",
    "\n",
    "dataTypeList = {};\n",
    "imagePathList = {};\n",
    "counter = 1;\n",
    "\n",
    "for ii = 1:length(submission)\n",
    "    datasetList = fieldnames(datasetDetails.(submission{ii}).datasets);\n",
    "\n",
    "    for jj = 1:length(datasetList)\n",
    "        OSF_linkList{counter} = datasetDetails.(submission{ii}).OSF_link;\n",
    "\n",
    "        siteDetails=datasetDetails.(submission{ii}).datasets.(datasetList{jj});\n",
    "        dataTypeList{counter} = siteDetails.dataType;\n",
    "        if strcmp(siteDetails.dataType, 'Complex')\n",
    "            imagePathList{counter} = siteDetails.magnitude.imagePath;\n",
    "            counter = counter + 1;\n",
    "            OSF_linkList{counter} = datasetDetails.(submission{ii}).OSF_link;\n",
    "            dataTypeList{counter} = siteDetails.dataType;\n",
    "            imagePathList{counter} = siteDetails.phase.imagePath;\n",
    "            counter = counter + 1;\n",
    "        else\n",
    "            imagePathList{counter} = siteDetails.imagePath;\n",
    "            counter = counter + 1;\n",
    "        end\n",
    "    end\n",
    "end"
   ]
  },
  {
   "cell_type": "markdown",
   "metadata": {
    "kernel": "MATLAB"
   },
   "source": [
    "## Download data"
   ]
  },
  {
   "cell_type": "code",
   "execution_count": null,
   "metadata": {
    "kernel": "MATLAB"
   },
   "outputs": [],
   "source": [
    "downloadedList = {''};\n",
    "counter = 1;\n",
    "\n",
    "for ii = 1:length(imagePathList)\n",
    "\n",
    "    OSF_link= OSF_linkList{ii};\n",
    "\n",
    "    if ~strcmp(OSF_link, downloadedList)\n",
    "        % Download data\n",
    "        download_data(OSF_link);\n",
    "        \n",
    "        downloadedList{counter} = OSF_link;\n",
    "        counter = counter + 1;\n",
    "    end\n",
    "    \n",
    "end"
   ]
  },
  {
   "cell_type": "markdown",
   "metadata": {
    "kernel": "MATLAB"
   },
   "source": [
    "## Convert YAML config files to YAML"
   ]
  },
  {
   "cell_type": "code",
   "execution_count": null,
   "metadata": {
    "kernel": "Python3"
   },
   "outputs": [],
   "source": [
    "%get dataTypeList --from MATLAB\n",
    "%get imagePathList --from MATLAB\n",
    "\n",
    "from convert_yaml_to_json import *\n",
    "\n",
    "for dataType, imagePath in zip(dataTypeList, imagePathList):\n",
    "    print(imagePath)\n",
    "    convert_yaml_to_json(dataType, imagePath)\n"
   ]
  },
  {
   "cell_type": "markdown",
   "metadata": {
    "kernel": "Octave"
   },
   "source": [
    "## Process entire dataset"
   ]
  },
  {
   "cell_type": "code",
   "execution_count": null,
   "metadata": {
    "kernel": "MATLAB"
   },
   "outputs": [],
   "source": [
    "disp('Beginning dataset processing phase.')\n",
    "\n",
    "track_complex = false;\n",
    "\n",
    "for ii = 1:length(imagePathList)\n",
    "    disp(['----- Started dataset ', num2str(ii), ' out of ', num2str(length(imagePathList)), ' -----'])\n",
    "\n",
    "    if track_complex\n",
    "        track_complex = false;\n",
    "        disp('Skipping, second file of already processed complex dataset.')\n",
    "        continue\n",
    "    end\n",
    "    dataType = dataTypeList{ii};\n",
    "    imagePath = imagePathList{ii};\n",
    "\n",
    "    if strcmp(dataType, 'Complex')\n",
    "        disp('Complex dataset encountered.')\n",
    "        % Load data\n",
    "        [data_mag, hdr_mag] = load_data(imagePath);\n",
    "        ii = ii+1;\n",
    "        [data_ph, hdr_ph] = load_data(imagePathList{ii});\n",
    "        data = magphaseToComplex(data_mag, data_ph);\n",
    "        hdr = hdr_mag;\n",
    "        track_complex = true;\n",
    "    else\n",
    "        % Load data\n",
    "        [data, hdr] = load_data(imagePath);\n",
    "    end\n",
    "\n",
    "    % Get inversion times\n",
    "    TI = load_inversion_times(imagePath);\n",
    "\n",
    "    % Fit data\n",
    "    FitResults = fit_inversion_recovery(data, TI, dataType);\n",
    "\n",
    "    % Save data to nifti\n",
    "\n",
    "    [filepath,name,ext] = fileparts(imagePath);\n",
    "    if strcmp(name(end-3:end),'.nii')\n",
    "       [tmp1,name,tmp2] = fileparts(name);\n",
    "    end\n",
    "    clear tmp1, tmp2;\n",
    "\n",
    "    t1MapPath = ['t1_map' filesep filepath];\n",
    "    if strcmp(dataType, 'Complex')\n",
    "        t1Filename = [name(1:end-9), 'Complex_t1map.nii.gz'];\n",
    "    else\n",
    "        t1Filename = [name, '_t1map.nii.gz'];\n",
    "    end\n",
    "    save_to_nifti(FitResults, hdr, t1MapPath, t1Filename)\n",
    "\n",
    "end\n",
    "\n",
    "disp('Completed processing entire datasets!')"
   ]
  },
  {
   "cell_type": "code",
   "execution_count": null,
   "metadata": {
    "kernel": "MATLAB"
   },
   "outputs": [],
   "source": []
  }
 ],
 "metadata": {
  "kernelspec": {
   "display_name": "SoS",
   "language": "sos",
   "name": "sos"
  },
  "language_info": {
   "codemirror_mode": "sos",
   "file_extension": ".sos",
   "mimetype": "text/x-sos",
   "name": "sos",
   "nbconvert_exporter": "sos_notebook.converter.SoS_Exporter",
   "pygments_lexer": "sos"
  },
  "sos": {
   "kernels": [
    [
     "MATLAB",
     "imatlab",
     "MATLAB",
     "#8ee7f1"
    ],
    [
     "Python3",
     "python3",
     "Python3",
     "#FFD91A"
    ],
    [
     "SoS",
     "sos",
     "",
     ""
    ]
   ],
   "panel": {
    "displayed": true,
    "height": 0,
    "style": "side"
   },
   "version": "0.21.9"
  }
 },
 "nbformat": 4,
 "nbformat_minor": 2
}
