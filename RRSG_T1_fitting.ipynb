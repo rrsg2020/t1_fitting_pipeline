{
 "cells": [
  {
   "cell_type": "markdown",
   "metadata": {
    "kernel": "SoS"
   },
   "source": [
    "# Demo T1 processing notebook"
   ]
  },
  {
   "cell_type": "markdown",
   "metadata": {
    "kernel": "SoS"
   },
   "source": [
    "## Choose dataset to process"
   ]
  },
  {
   "cell_type": "code",
   "execution_count": null,
   "metadata": {
    "kernel": "MATLAB"
   },
   "outputs": [],
   "source": [
    "% Datasets available: \n",
    "% '350mT_NIST.json'\n",
    "% '3T_NIST.json'\n",
    "% '3T_human.json'\n",
    "osfDataset = '3T_NIST.json';\n"
   ]
  },
  {
   "cell_type": "markdown",
   "metadata": {
    "kernel": "MATLAB"
   },
   "source": [
    "## Startup qMRLab"
   ]
  },
  {
   "cell_type": "code",
   "execution_count": null,
   "metadata": {
    "kernel": "MATLAB"
   },
   "outputs": [],
   "source": [
    "try\n",
    "    cd qMRLab\n",
    "    startup\n",
    "    cd ..\n",
    "catch\n",
    "    error(\"qMRLab could not be started correctly.\")\n",
    "end"
   ]
  },
  {
   "cell_type": "markdown",
   "metadata": {
    "kernel": "MATLAB"
   },
   "source": [
    "## Get configuration options\n",
    "\n"
   ]
  },
  {
   "cell_type": "code",
   "execution_count": null,
   "metadata": {
    "kernel": "MATLAB"
   },
   "outputs": [],
   "source": [
    "datasetDetails=loadjson(osfDataset);\n",
    "submission = fieldnames(datasetDetails);\n",
    "\n",
    "dataTypeList = {};\n",
    "dataSubTypeList = {};\n",
    "imagePathList = {};\n",
    "counter = 1;\n",
    "\n",
    "for ii = 1:length(submission)\n",
    "    datasetList = fieldnames(datasetDetails.(submission{ii}).datasets);\n",
    "\n",
    "    for jj = 1:length(datasetList)\n",
    "        OSF_linkList{counter} = datasetDetails.(submission{ii}).OSF_link;\n",
    "\n",
    "        siteDetails=datasetDetails.(submission{ii}).datasets.(datasetList{jj});\n",
    "        dataTypeList{counter} = siteDetails.dataType;\n",
    "        if strcmp(siteDetails.dataType, 'Complex')\n",
    "            if isfield(siteDetails, 'magnitude')\n",
    "                dataSubTypeList{counter} = 'magnitude';\n",
    "                imagePathList{counter} = siteDetails.magnitude.imagePath;\n",
    "                counter = counter + 1;\n",
    "                OSF_linkList{counter} = datasetDetails.(submission{ii}).OSF_link;\n",
    "                dataTypeList{counter} = siteDetails.dataType;\n",
    "                dataSubTypeList{counter} = 'phase';\n",
    "                imagePathList{counter} = siteDetails.phase.imagePath;\n",
    "            elseif isfield(siteDetails, 'real')\n",
    "                dataSubTypeList{counter} = 'real';\n",
    "                imagePathList{counter} = siteDetails.real.imagePath;\n",
    "                counter = counter + 1;\n",
    "                OSF_linkList{counter} = datasetDetails.(submission{ii}).OSF_link;\n",
    "                dataSubTypeList{counter} = 'imaginary';\n",
    "                dataTypeList{counter} = siteDetails.dataType;\n",
    "                imagePathList{counter} = siteDetails.imaginary.imagePath;                \n",
    "            else\n",
    "                error('If datatype is complex, the side details must have either fields called either magnitude/phase or real/imaginary.')\n",
    "            end\n",
    "            counter = counter + 1;\n",
    "        else\n",
    "            dataSubTypeList{counter} = 'Magnitude';\n",
    "            imagePathList{counter} = siteDetails.imagePath;\n",
    "            counter = counter + 1;\n",
    "        end\n",
    "    end\n",
    "end\n"
   ]
  },
  {
   "cell_type": "markdown",
   "metadata": {
    "kernel": "MATLAB"
   },
   "source": [
    "## Download data"
   ]
  },
  {
   "cell_type": "code",
   "execution_count": null,
   "metadata": {
    "kernel": "MATLAB"
   },
   "outputs": [],
   "source": [
    "downloadedList = {''};\n",
    "counter = 1;\n",
    "\n",
    "for ii = 1:length(imagePathList)\n",
    "\n",
    "    OSF_link= OSF_linkList{ii};\n",
    "\n",
    "    if ~strcmp(OSF_link, downloadedList)\n",
    "        % Download data\n",
    "        download_data(OSF_link, osfDataset);\n",
    "        \n",
    "        downloadedList{counter} = OSF_link;\n",
    "        counter = counter + 1;\n",
    "    end\n",
    "    \n",
    "end"
   ]
  },
  {
   "cell_type": "markdown",
   "metadata": {
    "kernel": "MATLAB"
   },
   "source": [
    "## Convert YAML config files to YAML"
   ]
  },
  {
   "cell_type": "code",
   "execution_count": null,
   "metadata": {
    "kernel": "Python3"
   },
   "outputs": [],
   "source": [
    "%get dataTypeList --from MATLAB\n",
    "%get imagePathList --from MATLAB\n",
    "%get osfDataset --from MATLAB\n",
    "from convert_yaml_to_json import *\n",
    "\n",
    "for dataType, imagePath in zip(dataTypeList, imagePathList):\n",
    "    print(imagePath)\n",
    "    convert_yaml_to_json(dataType, imagePath, osfDataset)\n"
   ]
  },
  {
   "cell_type": "markdown",
   "metadata": {
    "kernel": "Octave"
   },
   "source": [
    "## Process entire dataset"
   ]
  },
  {
   "cell_type": "code",
   "execution_count": null,
   "metadata": {
    "kernel": "MATLAB"
   },
   "outputs": [],
   "source": [
    "disp('Beginning dataset processing phase.')\n",
    "\n",
    "track_complex = false;\n",
    "\n",
    "for ii = 1:length(imagePathList)\n",
    "    disp(['----- Started dataset ', num2str(ii), ' out of ', num2str(length(imagePathList)), ' -----'])\n",
    "\n",
    "    if track_complex\n",
    "        track_complex = false;\n",
    "        disp('Skipping, second file of already processed complex dataset.')\n",
    "        continue\n",
    "    end\n",
    "    dataType = dataTypeList{ii};\n",
    "    imagePath = imagePathList{ii};\n",
    "\n",
    "    if strcmp(dataType, 'Complex')\n",
    "        disp('Complex dataset encountered.')\n",
    "        if  strcmp(dataSubTypeList{ii}, 'magnitude')\n",
    "            % Load data\n",
    "            [data_mag, hdr_mag] = load_data(imagePath, osfDataset);\n",
    "            ii = ii+1;\n",
    "            [data_ph, hdr_ph] = load_data(imagePathList{ii}, osfDataset);\n",
    "            data = magphaseToComplex(data_mag, data_ph);\n",
    "            hdr = hdr_mag;\n",
    "            track_complex = true;\n",
    "        elseif strcmp(dataSubTypeList{ii}, 'real')\n",
    "            [data_re, hdr_re] = load_data(imagePath, osfDataset);\n",
    "            ii = ii+1;\n",
    "            [data_im, hdr_im] = load_data(imagePathList{ii}, osfDataset);\n",
    "            data = data_re +1i*data_im;\n",
    "            hdr = hdr_re;\n",
    "            track_complex = true;\n",
    "        end\n",
    "    else\n",
    "        % Load data\n",
    "        [data, hdr] = load_data(imagePath, osfDataset);\n",
    "    end\n",
    "\n",
    "    % Get inversion times\n",
    "    TI = load_inversion_times(imagePath, osfDataset);\n",
    "\n",
    "    % Fit data\n",
    "    FitResults = fit_inversion_recovery(data, TI, dataType);\n",
    "\n",
    "    % Save data to nifti\n",
    "\n",
    "    [filepath,name,ext] = fileparts(imagePath);\n",
    "    if strcmp(name(end-3:end),'.nii')\n",
    "       [tmp1,name,tmp2] = fileparts(name);\n",
    "    end\n",
    "    clear tmp1, tmp2;\n",
    "\n",
    "    t1MapPath = [osfDataset(1:end-5) '_t1map' filesep filepath];\n",
    "    if strcmp(dataType, 'Complex')\n",
    "        if  strcmp(dataSubTypeList{ii}, 'phase')\n",
    "            t1Filename = [name(1:end-9), 'Complex_t1map.nii.gz']; % end-9 is to remove \"phase\"\n",
    "        elseif strcmp(dataSubTypeList{ii}, 'imaginary')\n",
    "            t1Filename = [name(1:end-4), 'Complex_t1map.nii.gz']; % end-4 is to remove \"real\"\n",
    "        end\n",
    "    else\n",
    "        t1Filename = [name, '_t1map.nii.gz'];\n",
    "    end\n",
    "    \n",
    "    save_to_nifti(FitResults, hdr, t1MapPath, t1Filename)\n",
    "    \n",
    "    save_qa_png(FitResults, t1MapPath, t1Filename)\n",
    "    \n",
    "    % Copy acquisition configuration files to their respective T1 results folders\n",
    "    if strcmp(dataType, 'Complex')\n",
    "        copy_jsonyaml_to_t1folder(filepath, name, osfDataset, dataType, dataSubTypeList{ii})\n",
    "    else\n",
    "        copy_jsonyaml_to_t1folder(filepath, name, osfDataset, dataType)\n",
    "    end\n",
    "    \n",
    "    % Add link to raw data\n",
    "    \n",
    "    fid = fopen([t1MapPath, filesep, 'raw_data_OSF_link.txt'],'wt');\n",
    "    fprintf(fid, '%s\\n', OSF_linkList{ii});\n",
    "    fclose(fid);\n",
    "end\n",
    "\n",
    "disp('Completed processing entire datasets!')"
   ]
  },
  {
   "cell_type": "code",
   "execution_count": null,
   "metadata": {
    "kernel": "MATLAB"
   },
   "outputs": [],
   "source": []
  }
 ],
 "metadata": {
  "kernelspec": {
   "display_name": "SoS",
   "language": "sos",
   "name": "sos"
  },
  "language_info": {
   "codemirror_mode": "sos",
   "file_extension": ".sos",
   "mimetype": "text/x-sos",
   "name": "sos",
   "nbconvert_exporter": "sos_notebook.converter.SoS_Exporter",
   "pygments_lexer": "sos"
  },
  "sos": {
   "kernels": [
    [
     "MATLAB",
     "imatlab",
     "MATLAB",
     "#8ee7f1",
     ""
    ],
    [
     "Python3",
     "python3",
     "Python3",
     "#FFD91A",
     ""
    ]
   ],
   "panel": {
    "displayed": true,
    "height": 0,
    "style": "side"
   },
   "version": "0.21.9"
  }
 },
 "nbformat": 4,
 "nbformat_minor": 2
}
